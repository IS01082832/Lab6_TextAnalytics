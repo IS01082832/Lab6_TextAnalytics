{
 "cells": [
  {
   "cell_type": "code",
   "execution_count": 1,
   "id": "dbcb71b9-8fee-41fa-b10a-e9fd0db7c67c",
   "metadata": {},
   "outputs": [],
   "source": [
    "# Perform imports and load the dataset:\n",
    "import pandas as pd"
   ]
  },
  {
   "cell_type": "code",
   "execution_count": 2,
   "id": "ffb3c543-5473-47f2-9a7d-971c19f48ac7",
   "metadata": {},
   "outputs": [
    {
     "data": {
      "text/plain": [
       "(13, 15)"
      ]
     },
     "execution_count": 2,
     "metadata": {},
     "output_type": "execute_result"
    }
   ],
   "source": [
    "df = pd.read_csv(\"Processed_Reviews.csv\",encoding=\"ISO-8859-1\")\n",
    "df.shape"
   ]
  },
  {
   "cell_type": "code",
   "execution_count": 3,
   "id": "a5452da0-84a6-4148-a56f-09686dfb70a6",
   "metadata": {},
   "outputs": [
    {
     "data": {
      "text/html": [
       "<div>\n",
       "<style scoped>\n",
       "    .dataframe tbody tr th:only-of-type {\n",
       "        vertical-align: middle;\n",
       "    }\n",
       "\n",
       "    .dataframe tbody tr th {\n",
       "        vertical-align: top;\n",
       "    }\n",
       "\n",
       "    .dataframe thead th {\n",
       "        text-align: right;\n",
       "    }\n",
       "</style>\n",
       "<table border=\"1\" class=\"dataframe\">\n",
       "  <thead>\n",
       "    <tr style=\"text-align: right;\">\n",
       "      <th></th>\n",
       "      <th>Review</th>\n",
       "      <th>lowercased</th>\n",
       "      <th>urls_removed</th>\n",
       "      <th>html_removed</th>\n",
       "      <th>emojis_removed</th>\n",
       "      <th>slangs_replaced</th>\n",
       "      <th>contractions_replaced</th>\n",
       "      <th>punctuations_removed</th>\n",
       "      <th>numbers_removed</th>\n",
       "      <th>spelling_corrected</th>\n",
       "      <th>stopwords_removed</th>\n",
       "      <th>stemmed_words</th>\n",
       "      <th>lemmatized</th>\n",
       "      <th>label</th>\n",
       "      <th>tokenized</th>\n",
       "    </tr>\n",
       "  </thead>\n",
       "  <tbody>\n",
       "    <tr>\n",
       "      <th>0</th>\n",
       "      <td>The product arrived on time. Packaging was gre...</td>\n",
       "      <td>the product arrived on time. packaging was gre...</td>\n",
       "      <td>the product arrived on time. packaging was gre...</td>\n",
       "      <td>the product arrived on time. packaging was gre...</td>\n",
       "      <td>the product arrived on time. packaging was gre...</td>\n",
       "      <td>the product arrived on time. packaging was gre...</td>\n",
       "      <td>the product arrived on time. packaging was gre...</td>\n",
       "      <td>the product arrived on time packaging was grea...</td>\n",
       "      <td>the product arrived on time packaging was grea...</td>\n",
       "      <td>the product arrived on time packaging was grea...</td>\n",
       "      <td>product arrived time packaging great quality a...</td>\n",
       "      <td>product arriv time packag great qualiti amaz</td>\n",
       "      <td>product arrive time packaging great quality am...</td>\n",
       "      <td>1</td>\n",
       "      <td>['product', 'arrive', 'time', 'packaging', 'gr...</td>\n",
       "    </tr>\n",
       "    <tr>\n",
       "      <th>1</th>\n",
       "      <td>THIS PRODUCT IS JUST AMAZING! I LOVE IT.</td>\n",
       "      <td>this product is just amazing! i love it.</td>\n",
       "      <td>this product is just amazing! i love it.</td>\n",
       "      <td>this product is just amazing! i love it.</td>\n",
       "      <td>this product is just amazing! i love it.</td>\n",
       "      <td>this product is just amazing! i love it.</td>\n",
       "      <td>this product is just amazing! i love it.</td>\n",
       "      <td>this product is just amazing i love it</td>\n",
       "      <td>this product is just amazing i love it</td>\n",
       "      <td>this product is just amazing i love it</td>\n",
       "      <td>product amazing love</td>\n",
       "      <td>product amaz love</td>\n",
       "      <td>product amaze love</td>\n",
       "      <td>1</td>\n",
       "      <td>['product', 'amaze', 'love']</td>\n",
       "    </tr>\n",
       "    <tr>\n",
       "      <th>2</th>\n",
       "      <td>I bought this phone for $799, and it has a 120...</td>\n",
       "      <td>i bought this phone for $799, and it has a 120...</td>\n",
       "      <td>i bought this phone for $799, and it has a 120...</td>\n",
       "      <td>i bought this phone for $799, and it has a 120...</td>\n",
       "      <td>i bought this phone for $799, and it has a 120...</td>\n",
       "      <td>i bought this phone for $799, and it has a 120...</td>\n",
       "      <td>i bought this phone for $799, and it has a 120...</td>\n",
       "      <td>i bought this phone for 799 and it has a 120hz...</td>\n",
       "      <td>i bought this phone for  and it has a hz displ...</td>\n",
       "      <td>i bought this phone for  and it has a hz displ...</td>\n",
       "      <td>bought phone hz display totally worth</td>\n",
       "      <td>bought phone hz display total worth</td>\n",
       "      <td>buy phone hz display totally worth</td>\n",
       "      <td>1</td>\n",
       "      <td>['buy', 'phone', 'hz', 'display', 'totally', '...</td>\n",
       "    </tr>\n",
       "    <tr>\n",
       "      <th>3</th>\n",
       "      <td>Wow!!! This product is awesome... but a bit ex...</td>\n",
       "      <td>wow!!! this product is awesome... but a bit ex...</td>\n",
       "      <td>wow!!! this product is awesome... but a bit ex...</td>\n",
       "      <td>wow!!! this product is awesome... but a bit ex...</td>\n",
       "      <td>wow!!! this product is awesome... but a bit ex...</td>\n",
       "      <td>wow!!! this product is awesome... but a bit ex...</td>\n",
       "      <td>wow!!! this product is awesome... but a bit ex...</td>\n",
       "      <td>wow this product is awesome but a bit expensive</td>\n",
       "      <td>wow this product is awesome but a bit expensive</td>\n",
       "      <td>wow this product is awesome but a bit expensive</td>\n",
       "      <td>wow product awesome bit expensive</td>\n",
       "      <td>wow product awesom bit expens</td>\n",
       "      <td>wow product awesome bit expensive</td>\n",
       "      <td>0</td>\n",
       "      <td>['wow', 'product', 'awesome', 'bit', 'expensive']</td>\n",
       "    </tr>\n",
       "    <tr>\n",
       "      <th>4</th>\n",
       "      <td>The laptop works perfectly fine.</td>\n",
       "      <td>the laptop works perfectly fine.</td>\n",
       "      <td>the laptop works perfectly fine.</td>\n",
       "      <td>the laptop works perfectly fine.</td>\n",
       "      <td>the laptop works perfectly fine.</td>\n",
       "      <td>the laptop works perfectly fine.</td>\n",
       "      <td>the laptop works perfectly fine.</td>\n",
       "      <td>the laptop works perfectly fine</td>\n",
       "      <td>the laptop works perfectly fine</td>\n",
       "      <td>the laptop works perfectly fine</td>\n",
       "      <td>laptop works perfectly fine</td>\n",
       "      <td>laptop work perfectli fine</td>\n",
       "      <td>laptop work perfectly fine</td>\n",
       "      <td>1</td>\n",
       "      <td>['laptop', 'work', 'perfectly', 'fine']</td>\n",
       "    </tr>\n",
       "  </tbody>\n",
       "</table>\n",
       "</div>"
      ],
      "text/plain": [
       "                                              Review  \\\n",
       "0  The product arrived on time. Packaging was gre...   \n",
       "1           THIS PRODUCT IS JUST AMAZING! I LOVE IT.   \n",
       "2  I bought this phone for $799, and it has a 120...   \n",
       "3  Wow!!! This product is awesome... but a bit ex...   \n",
       "4                The laptop works perfectly fine.      \n",
       "\n",
       "                                          lowercased  \\\n",
       "0  the product arrived on time. packaging was gre...   \n",
       "1           this product is just amazing! i love it.   \n",
       "2  i bought this phone for $799, and it has a 120...   \n",
       "3  wow!!! this product is awesome... but a bit ex...   \n",
       "4                the laptop works perfectly fine.      \n",
       "\n",
       "                                        urls_removed  \\\n",
       "0  the product arrived on time. packaging was gre...   \n",
       "1           this product is just amazing! i love it.   \n",
       "2  i bought this phone for $799, and it has a 120...   \n",
       "3  wow!!! this product is awesome... but a bit ex...   \n",
       "4                the laptop works perfectly fine.      \n",
       "\n",
       "                                        html_removed  \\\n",
       "0  the product arrived on time. packaging was gre...   \n",
       "1           this product is just amazing! i love it.   \n",
       "2  i bought this phone for $799, and it has a 120...   \n",
       "3  wow!!! this product is awesome... but a bit ex...   \n",
       "4                the laptop works perfectly fine.      \n",
       "\n",
       "                                      emojis_removed  \\\n",
       "0  the product arrived on time. packaging was gre...   \n",
       "1           this product is just amazing! i love it.   \n",
       "2  i bought this phone for $799, and it has a 120...   \n",
       "3  wow!!! this product is awesome... but a bit ex...   \n",
       "4                the laptop works perfectly fine.      \n",
       "\n",
       "                                     slangs_replaced  \\\n",
       "0  the product arrived on time. packaging was gre...   \n",
       "1           this product is just amazing! i love it.   \n",
       "2  i bought this phone for $799, and it has a 120...   \n",
       "3  wow!!! this product is awesome... but a bit ex...   \n",
       "4                the laptop works perfectly fine.      \n",
       "\n",
       "                               contractions_replaced  \\\n",
       "0  the product arrived on time. packaging was gre...   \n",
       "1           this product is just amazing! i love it.   \n",
       "2  i bought this phone for $799, and it has a 120...   \n",
       "3  wow!!! this product is awesome... but a bit ex...   \n",
       "4                the laptop works perfectly fine.      \n",
       "\n",
       "                                punctuations_removed  \\\n",
       "0  the product arrived on time packaging was grea...   \n",
       "1             this product is just amazing i love it   \n",
       "2  i bought this phone for 799 and it has a 120hz...   \n",
       "3    wow this product is awesome but a bit expensive   \n",
       "4                 the laptop works perfectly fine      \n",
       "\n",
       "                                     numbers_removed  \\\n",
       "0  the product arrived on time packaging was grea...   \n",
       "1             this product is just amazing i love it   \n",
       "2  i bought this phone for  and it has a hz displ...   \n",
       "3    wow this product is awesome but a bit expensive   \n",
       "4                 the laptop works perfectly fine      \n",
       "\n",
       "                                  spelling_corrected  \\\n",
       "0  the product arrived on time packaging was grea...   \n",
       "1             this product is just amazing i love it   \n",
       "2  i bought this phone for  and it has a hz displ...   \n",
       "3    wow this product is awesome but a bit expensive   \n",
       "4                 the laptop works perfectly fine      \n",
       "\n",
       "                                   stopwords_removed  \\\n",
       "0  product arrived time packaging great quality a...   \n",
       "1                               product amazing love   \n",
       "2              bought phone hz display totally worth   \n",
       "3                  wow product awesome bit expensive   \n",
       "4                        laptop works perfectly fine   \n",
       "\n",
       "                                  stemmed_words  \\\n",
       "0  product arriv time packag great qualiti amaz   \n",
       "1                             product amaz love   \n",
       "2           bought phone hz display total worth   \n",
       "3                 wow product awesom bit expens   \n",
       "4                    laptop work perfectli fine   \n",
       "\n",
       "                                          lemmatized  label  \\\n",
       "0  product arrive time packaging great quality am...      1   \n",
       "1                                 product amaze love      1   \n",
       "2                 buy phone hz display totally worth      1   \n",
       "3                  wow product awesome bit expensive      0   \n",
       "4                         laptop work perfectly fine      1   \n",
       "\n",
       "                                           tokenized  \n",
       "0  ['product', 'arrive', 'time', 'packaging', 'gr...  \n",
       "1                       ['product', 'amaze', 'love']  \n",
       "2  ['buy', 'phone', 'hz', 'display', 'totally', '...  \n",
       "3  ['wow', 'product', 'awesome', 'bit', 'expensive']  \n",
       "4            ['laptop', 'work', 'perfectly', 'fine']  "
      ]
     },
     "execution_count": 3,
     "metadata": {},
     "output_type": "execute_result"
    }
   ],
   "source": [
    "df.head()"
   ]
  },
  {
   "cell_type": "code",
   "execution_count": 4,
   "id": "929dad30-6369-4b47-b0a5-dfbd3f4a232e",
   "metadata": {},
   "outputs": [
    {
     "name": "stdout",
     "output_type": "stream",
     "text": [
      "<class 'pandas.core.frame.DataFrame'>\n",
      "RangeIndex: 13 entries, 0 to 12\n",
      "Data columns (total 15 columns):\n",
      " #   Column                 Non-Null Count  Dtype \n",
      "---  ------                 --------------  ----- \n",
      " 0   Review                 13 non-null     object\n",
      " 1   lowercased             13 non-null     object\n",
      " 2   urls_removed           13 non-null     object\n",
      " 3   html_removed           13 non-null     object\n",
      " 4   emojis_removed         13 non-null     object\n",
      " 5   slangs_replaced        13 non-null     object\n",
      " 6   contractions_replaced  13 non-null     object\n",
      " 7   punctuations_removed   13 non-null     object\n",
      " 8   numbers_removed        13 non-null     object\n",
      " 9   spelling_corrected     13 non-null     object\n",
      " 10  stopwords_removed      13 non-null     object\n",
      " 11  stemmed_words          13 non-null     object\n",
      " 12  lemmatized             13 non-null     object\n",
      " 13  label                  13 non-null     int64 \n",
      " 14  tokenized              13 non-null     object\n",
      "dtypes: int64(1), object(14)\n",
      "memory usage: 1.7+ KB\n"
     ]
    }
   ],
   "source": [
    "df.info()"
   ]
  },
  {
   "cell_type": "code",
   "execution_count": 5,
   "id": "1e7c1858-0b76-4163-a58a-826a2d358d78",
   "metadata": {},
   "outputs": [
    {
     "data": {
      "text/plain": [
       "Review                   0\n",
       "lowercased               0\n",
       "urls_removed             0\n",
       "html_removed             0\n",
       "emojis_removed           0\n",
       "slangs_replaced          0\n",
       "contractions_replaced    0\n",
       "punctuations_removed     0\n",
       "numbers_removed          0\n",
       "spelling_corrected       0\n",
       "stopwords_removed        0\n",
       "stemmed_words            0\n",
       "lemmatized               0\n",
       "label                    0\n",
       "tokenized                0\n",
       "dtype: int64"
      ]
     },
     "execution_count": 5,
     "metadata": {},
     "output_type": "execute_result"
    }
   ],
   "source": [
    "# Checking for null values\n",
    "df.isnull().sum()"
   ]
  },
  {
   "cell_type": "code",
   "execution_count": 6,
   "id": "b18d521e-aee3-4ccd-95a5-ddf40df4b38d",
   "metadata": {},
   "outputs": [
    {
     "data": {
      "text/plain": [
       "0"
      ]
     },
     "execution_count": 6,
     "metadata": {},
     "output_type": "execute_result"
    }
   ],
   "source": [
    "# Checking Duplicate values\n",
    "df.duplicated().sum()\n"
   ]
  },
  {
   "cell_type": "code",
   "execution_count": 7,
   "id": "eab2fdce-e036-40b1-8741-7eb763305d93",
   "metadata": {},
   "outputs": [
    {
     "data": {
      "text/plain": [
       "(13, 15)"
      ]
     },
     "execution_count": 7,
     "metadata": {},
     "output_type": "execute_result"
    }
   ],
   "source": [
    "# Drop Duplicate values\n",
    "df=df.drop_duplicates()\n",
    "df.shape"
   ]
  },
  {
   "cell_type": "code",
   "execution_count": null,
   "id": "47ac2812-e545-4f9b-9f24-b864cf313e6a",
   "metadata": {},
   "outputs": [],
   "source": [
    "#Pre-processing:\n",
    "o Use only the lemmatized column.\n",
    "o Convert labels to numeric if they are categorical"
   ]
  },
  {
   "cell_type": "code",
   "execution_count": 9,
   "id": "ec902edb-ebb3-4541-b0a1-f76b77ba95eb",
   "metadata": {},
   "outputs": [],
   "source": [
    "# import library\n",
    "import re\n",
    "import string\n",
    "import nltk\n",
    "from nltk.corpus import stopwords"
   ]
  },
  {
   "cell_type": "code",
   "execution_count": 10,
   "id": "5d4fc4cf-cb40-48fe-9236-5288db2ecda2",
   "metadata": {},
   "outputs": [],
   "source": [
    "stop_words = stopwords.words('english')\n",
    "more_stopwords = ['u', 'im', 'c']\n",
    "stop_words = stop_words + more_stopwords"
   ]
  },
  {
   "cell_type": "code",
   "execution_count": 11,
   "id": "714fbf2f-fc5b-45c0-b9c3-6b0954325b72",
   "metadata": {},
   "outputs": [],
   "source": [
    "stemmer = nltk.SnowballStemmer(\"english\")"
   ]
  },
  {
   "cell_type": "code",
   "execution_count": 12,
   "id": "c97d886b-6575-49b6-8ed8-5c20883fad05",
   "metadata": {},
   "outputs": [],
   "source": [
    "def preprocess(text):\n",
    "    text = text.lower()  # Convert text to lowercase\n",
    "    text = re.sub(r'\\[.*?\\]', '', text)  # Remove text within square brackets\n",
    "    text = re.sub(r'http\\S+\\s*\\S+', '', text)  # Remove URLs starting with http\n",
    "    text = re.sub(r'www\\.\\S+', '', text)  # Remove URLs starting with www\n",
    "    text = re.sub(r'<.*?>', '', text)  # Remove HTML tags\n",
    "    text = re.sub(r'[^\\w\\s]', '', text)  # Remove punctuation\n",
    "    text = re.sub(r'\\b\\w*\\d\\w*\\b', '', text)  # Remove words containing numbers\n",
    "    text = ' '.join(word for word in text.split(' ') if word not in stop_words)  # Remove stopwords\n",
    "    return text"
   ]
  },
  {
   "cell_type": "code",
   "execution_count": null,
   "id": "7a8eb8ba-2d40-4779-87ac-32defcb9dd05",
   "metadata": {},
   "outputs": [],
   "source": [
    "#Vectorization:\n",
    "o Apply TfidfVectorizer to transform the text data into numerical features."
   ]
  },
  {
   "cell_type": "code",
   "execution_count": 14,
   "id": "eea7d710-fd5f-4bc7-b5c5-43aa47ad0979",
   "metadata": {},
   "outputs": [
    {
     "ename": "KeyError",
     "evalue": "'message_clean'",
     "output_type": "error",
     "traceback": [
      "\u001b[0;31m---------------------------------------------------------------------------\u001b[0m",
      "\u001b[0;31mKeyError\u001b[0m                                  Traceback (most recent call last)",
      "File \u001b[0;32m/opt/conda/envs/anaconda-panel-2023.05-py310/lib/python3.11/site-packages/pandas/core/indexes/base.py:3653\u001b[0m, in \u001b[0;36mIndex.get_loc\u001b[0;34m(self, key)\u001b[0m\n\u001b[1;32m   3652\u001b[0m \u001b[38;5;28;01mtry\u001b[39;00m:\n\u001b[0;32m-> 3653\u001b[0m     \u001b[38;5;28;01mreturn\u001b[39;00m \u001b[38;5;28mself\u001b[39m\u001b[38;5;241m.\u001b[39m_engine\u001b[38;5;241m.\u001b[39mget_loc(casted_key)\n\u001b[1;32m   3654\u001b[0m \u001b[38;5;28;01mexcept\u001b[39;00m \u001b[38;5;167;01mKeyError\u001b[39;00m \u001b[38;5;28;01mas\u001b[39;00m err:\n",
      "File \u001b[0;32m/opt/conda/envs/anaconda-panel-2023.05-py310/lib/python3.11/site-packages/pandas/_libs/index.pyx:147\u001b[0m, in \u001b[0;36mpandas._libs.index.IndexEngine.get_loc\u001b[0;34m()\u001b[0m\n",
      "File \u001b[0;32m/opt/conda/envs/anaconda-panel-2023.05-py310/lib/python3.11/site-packages/pandas/_libs/index.pyx:176\u001b[0m, in \u001b[0;36mpandas._libs.index.IndexEngine.get_loc\u001b[0;34m()\u001b[0m\n",
      "File \u001b[0;32mpandas/_libs/hashtable_class_helper.pxi:7080\u001b[0m, in \u001b[0;36mpandas._libs.hashtable.PyObjectHashTable.get_item\u001b[0;34m()\u001b[0m\n",
      "File \u001b[0;32mpandas/_libs/hashtable_class_helper.pxi:7088\u001b[0m, in \u001b[0;36mpandas._libs.hashtable.PyObjectHashTable.get_item\u001b[0;34m()\u001b[0m\n",
      "\u001b[0;31mKeyError\u001b[0m: 'message_clean'",
      "\nThe above exception was the direct cause of the following exception:\n",
      "\u001b[0;31mKeyError\u001b[0m                                  Traceback (most recent call last)",
      "Cell \u001b[0;32mIn[14], line 3\u001b[0m\n\u001b[1;32m      1\u001b[0m \u001b[38;5;28;01mfrom\u001b[39;00m \u001b[38;5;21;01msklearn\u001b[39;00m\u001b[38;5;21;01m.\u001b[39;00m\u001b[38;5;21;01mfeature_extraction\u001b[39;00m\u001b[38;5;21;01m.\u001b[39;00m\u001b[38;5;21;01mtext\u001b[39;00m \u001b[38;5;28;01mimport\u001b[39;00m TfidfVectorizer\n\u001b[1;32m      2\u001b[0m tfidf_vect \u001b[38;5;241m=\u001b[39m TfidfVectorizer()\n\u001b[0;32m----> 3\u001b[0m X \u001b[38;5;241m=\u001b[39m tfidf_vect\u001b[38;5;241m.\u001b[39mfit_transform(df[\u001b[38;5;124m'\u001b[39m\u001b[38;5;124mmessage_clean\u001b[39m\u001b[38;5;124m'\u001b[39m])\n\u001b[1;32m      4\u001b[0m y \u001b[38;5;241m=\u001b[39m df[\u001b[38;5;124m'\u001b[39m\u001b[38;5;124mlabel\u001b[39m\u001b[38;5;124m'\u001b[39m]\n",
      "File \u001b[0;32m/opt/conda/envs/anaconda-panel-2023.05-py310/lib/python3.11/site-packages/pandas/core/frame.py:3761\u001b[0m, in \u001b[0;36mDataFrame.__getitem__\u001b[0;34m(self, key)\u001b[0m\n\u001b[1;32m   3759\u001b[0m \u001b[38;5;28;01mif\u001b[39;00m \u001b[38;5;28mself\u001b[39m\u001b[38;5;241m.\u001b[39mcolumns\u001b[38;5;241m.\u001b[39mnlevels \u001b[38;5;241m>\u001b[39m \u001b[38;5;241m1\u001b[39m:\n\u001b[1;32m   3760\u001b[0m     \u001b[38;5;28;01mreturn\u001b[39;00m \u001b[38;5;28mself\u001b[39m\u001b[38;5;241m.\u001b[39m_getitem_multilevel(key)\n\u001b[0;32m-> 3761\u001b[0m indexer \u001b[38;5;241m=\u001b[39m \u001b[38;5;28mself\u001b[39m\u001b[38;5;241m.\u001b[39mcolumns\u001b[38;5;241m.\u001b[39mget_loc(key)\n\u001b[1;32m   3762\u001b[0m \u001b[38;5;28;01mif\u001b[39;00m is_integer(indexer):\n\u001b[1;32m   3763\u001b[0m     indexer \u001b[38;5;241m=\u001b[39m [indexer]\n",
      "File \u001b[0;32m/opt/conda/envs/anaconda-panel-2023.05-py310/lib/python3.11/site-packages/pandas/core/indexes/base.py:3655\u001b[0m, in \u001b[0;36mIndex.get_loc\u001b[0;34m(self, key)\u001b[0m\n\u001b[1;32m   3653\u001b[0m     \u001b[38;5;28;01mreturn\u001b[39;00m \u001b[38;5;28mself\u001b[39m\u001b[38;5;241m.\u001b[39m_engine\u001b[38;5;241m.\u001b[39mget_loc(casted_key)\n\u001b[1;32m   3654\u001b[0m \u001b[38;5;28;01mexcept\u001b[39;00m \u001b[38;5;167;01mKeyError\u001b[39;00m \u001b[38;5;28;01mas\u001b[39;00m err:\n\u001b[0;32m-> 3655\u001b[0m     \u001b[38;5;28;01mraise\u001b[39;00m \u001b[38;5;167;01mKeyError\u001b[39;00m(key) \u001b[38;5;28;01mfrom\u001b[39;00m \u001b[38;5;21;01merr\u001b[39;00m\n\u001b[1;32m   3656\u001b[0m \u001b[38;5;28;01mexcept\u001b[39;00m \u001b[38;5;167;01mTypeError\u001b[39;00m:\n\u001b[1;32m   3657\u001b[0m     \u001b[38;5;66;03m# If we have a listlike key, _check_indexing_error will raise\u001b[39;00m\n\u001b[1;32m   3658\u001b[0m     \u001b[38;5;66;03m#  InvalidIndexError. Otherwise we fall through and re-raise\u001b[39;00m\n\u001b[1;32m   3659\u001b[0m     \u001b[38;5;66;03m#  the TypeError.\u001b[39;00m\n\u001b[1;32m   3660\u001b[0m     \u001b[38;5;28mself\u001b[39m\u001b[38;5;241m.\u001b[39m_check_indexing_error(key)\n",
      "\u001b[0;31mKeyError\u001b[0m: 'message_clean'"
     ]
    }
   ],
   "source": [
    "from sklearn.feature_extraction.text import TfidfVectorizer\n",
    "tfidf_vect = TfidfVectorizer()\n",
    "X = tfidf_vect.fit_transform(df['message_clean'])\n",
    "y = df['label'] # Labels (1 = positive, 0 = negative)"
   ]
  },
  {
   "cell_type": "code",
   "execution_count": null,
   "id": "27d59987-71d0-485f-803c-08ad306c6010",
   "metadata": {},
   "outputs": [],
   "source": [
    "#Model Training:\n",
    "o Split the data into training and test sets.\n",
    "o Train a classifier such as Naïve Bayes or SVM."
   ]
  },
  {
   "cell_type": "code",
   "execution_count": 15,
   "id": "ff4a1d5d-f341-40fd-8455-11bc719d42f5",
   "metadata": {},
   "outputs": [],
   "source": [
    "from sklearn.naive_bayes import MultinomialNB\n",
    "from sklearn.svm import SVC\n",
    "from sklearn.model_selection import train_test_split"
   ]
  },
  {
   "cell_type": "code",
   "execution_count": 32,
   "id": "797f6fb6-dafb-42da-a65b-75b81634f64a",
   "metadata": {},
   "outputs": [],
   "source": [
    "# Split data into train & test sets\n",
    "X_train, X_test, y_train, y_test = train_test_split(X, y, random_state=42)"
   ]
  },
  {
   "cell_type": "code",
   "execution_count": 33,
   "id": "9d63ab2c-897b-492e-8971-c24858b663e8",
   "metadata": {},
   "outputs": [],
   "source": [
    "# Naive Bayes\n",
    "nb_clf = MultinomialNB().fit(X_train, y_train)\n",
    "# SVM\n",
    "svm_clf = SVC(kernel='linear').fit(X_train, y_train)"
   ]
  },
  {
   "cell_type": "code",
   "execution_count": null,
   "id": "ea1e31fe-ae99-4b67-8372-91e66696adf5",
   "metadata": {},
   "outputs": [],
   "source": [
    "#Evaluation:\n",
    "o Evaluate the model using accuracy, precision, recall, and F1-score.\n",
    "o Optionally, display the confusion matrix."
   ]
  },
  {
   "cell_type": "code",
   "execution_count": 34,
   "id": "2a28c47f-4e13-4572-9fcc-44cd0c9ce394",
   "metadata": {},
   "outputs": [],
   "source": [
    "# Performance metrics comparison\n",
    "from sklearn.metrics import classification_report, confusion_matrix\n",
    "from sklearn.metrics import accuracy_score # Importing accuracy_score\n",
    "# Naive Bayes\n",
    "nb_predicted = nb_clf.predict(X_test)\n",
    "nb_report = classification_report(y_test, nb_predicted)\n",
    "# Calculate error rate for Naive Bayes\n",
    "nb_error_rate = 1 - accuracy_score(y_test, nb_predicted)\n",
    "nb_cm = confusion_matrix(y_test, nb_predicted)\n",
    "# SVM\n",
    "svm_predicted = svm_clf.predict(X_test)\n",
    "svm_report = classification_report(y_test, svm_predicted)\n",
    "# Calculate error rate for SVM\n",
    "svm_error_rate = 1 - accuracy_score(y_test, svm_predicted)\n",
    "svm_cm = confusion_matrix(y_test, svm_predicted)"
   ]
  },
  {
   "cell_type": "code",
   "execution_count": 35,
   "id": "ad5bac56-698d-4e22-b009-46344e1a9dfe",
   "metadata": {},
   "outputs": [
    {
     "data": {
      "text/plain": [
       "array([[4]])"
      ]
     },
     "execution_count": 35,
     "metadata": {},
     "output_type": "execute_result"
    }
   ],
   "source": [
    "nb_cm\n"
   ]
  },
  {
   "cell_type": "code",
   "execution_count": 37,
   "id": "beaeb831-7438-4547-a241-c72588dfa757",
   "metadata": {},
   "outputs": [
    {
     "data": {
      "image/png": "[encoded data removed]",
      "text/plain": [
       "<Figure size 800x600 with 2 Axes>"
      ]
     },
     "metadata": {},
     "output_type": "display_data"
    },
    {
     "name": "stdout",
     "output_type": "stream",
     "text": [
      "Naive Bayes Classifier Report:\n",
      "              precision    recall  f1-score   support\n",
      "\n",
      "           1       1.00      1.00      1.00         4\n",
      "\n",
      "    accuracy                           1.00         4\n",
      "   macro avg       1.00      1.00      1.00         4\n",
      "weighted avg       1.00      1.00      1.00         4\n",
      "\n",
      "\n",
      "Naive Bayes Error Rate: 0.00\n"
     ]
    },
    {
     "data": {
      "image/png": "[encoded data removed]",
      "text/plain": [
       "<Figure size 800x600 with 2 Axes>"
      ]
     },
     "metadata": {},
     "output_type": "display_data"
    },
    {
     "name": "stdout",
     "output_type": "stream",
     "text": [
      "\n",
      "SVM Classifier Report:\n",
      "              precision    recall  f1-score   support\n",
      "\n",
      "           1       1.00      1.00      1.00         4\n",
      "\n",
      "    accuracy                           1.00         4\n",
      "   macro avg       1.00      1.00      1.00         4\n",
      "weighted avg       1.00      1.00      1.00         4\n",
      "\n",
      "\n",
      "SVM Error Rate: 0.00\n"
     ]
    }
   ],
   "source": [
    "import matplotlib.pyplot as plt\n",
    "import seaborn as sns\n",
    "\n",
    "# Function to plot confusion matrix\n",
    "def plot_confusion_matrix(cm, classes, title='Confusion matrix', cmap=plt.cm.Blues):\n",
    "    plt.figure(figsize=(8, 6))\n",
    "    sns.heatmap(cm, annot=True, fmt='d', cmap=cmap, xticklabels=classes, yticklabels=classes)\n",
    "    plt.title(title)\n",
    "    plt.xlabel('Predicted label')\n",
    "    plt.ylabel('True label')\n",
    "    plt.show()\n",
    "\n",
    "# Plot confusion matrix for Naive Bayes\n",
    "plot_confusion_matrix(nb_cm, classes=['negative', 'positive'], title='Naive Bayes Confusion Matrix')\n",
    "\n",
    "print(\"Naive Bayes Classifier Report:\")\n",
    "print(nb_report)\n",
    "print(f\"\\nNaive Bayes Error Rate: {nb_error_rate:.2f}\")\n",
    "\n",
    "# Plot confusion matrix for SVM\n",
    "plot_confusion_matrix(svm_cm, classes=['negative', 'positive'], title='SVM Confusion Matrix')\n",
    "\n",
    "print(\"\\nSVM Classifier Report:\")\n",
    "print(svm_report)\n",
    "print(f\"\\nSVM Error Rate: {svm_error_rate:.2f}\")"
   ]
  },
  {
   "cell_type": "code",
   "execution_count": null,
   "id": "65b614b8-6372-477a-909a-d2d04b8f55f4",
   "metadata": {},
   "outputs": [],
   "source": []
  }
 ],
 "metadata": {
  "kernelspec": {
   "display_name": "anaconda-panel-2023.05-py310",
   "language": "python",
   "name": "conda-env-anaconda-panel-2023.05-py310-py"
  },
  "language_info": {
   "codemirror_mode": {
    "name": "ipython",
    "version": 3
   },
   "file_extension": ".py",
   "mimetype": "text/x-python",
   "name": "python",
   "nbconvert_exporter": "python",
   "pygments_lexer": "ipython3",
   "version": "3.11.5"
  }
 },
 "nbformat": 4,
 "nbformat_minor": 5
}
